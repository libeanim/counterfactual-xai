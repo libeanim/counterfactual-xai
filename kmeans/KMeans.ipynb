{
 "cells": [
  {
   "cell_type": "code",
   "execution_count": 1,
   "id": "ba9b2022",
   "metadata": {
    "ExecuteTime": {
     "end_time": "2021-11-02T14:55:27.062251Z",
     "start_time": "2021-11-02T14:55:25.762109Z"
    }
   },
   "outputs": [],
   "source": [
    "import numpy as np\n",
    "from sklearn.cluster import KMeans\n",
    "from sklearn.metrics import classification_report"
   ]
  },
  {
   "cell_type": "code",
   "execution_count": 2,
   "id": "00f96a44",
   "metadata": {
    "ExecuteTime": {
     "end_time": "2021-11-02T14:55:27.521953Z",
     "start_time": "2021-11-02T14:55:27.064192Z"
    }
   },
   "outputs": [],
   "source": [
    "from functools import partial\n",
    "\n",
    "import numpy as np\n",
    "import torch\n",
    "from tqdm import tqdm\n",
    "\n",
    "\n",
    "def initialize(X, num_clusters):\n",
    "    \"\"\"\n",
    "    initialize cluster centers\n",
    "    :param X: (torch.tensor) matrix\n",
    "    :param num_clusters: (int) number of clusters\n",
    "    :return: (np.array) initial state\n",
    "    \"\"\"\n",
    "    num_samples = len(X)\n",
    "    indices = np.random.choice(num_samples, num_clusters, replace=False)\n",
    "    initial_state = X[indices]\n",
    "    return initial_state\n",
    "\n",
    "\n",
    "def kmeans(\n",
    "        X,\n",
    "        num_clusters,\n",
    "        distance='euclidean',\n",
    "        cluster_centers=[],\n",
    "        tol=1e-4,\n",
    "        tqdm_flag=True,\n",
    "        iter_limit=0,\n",
    "        device=torch.device('cpu'),\n",
    "        gamma_for_soft_dtw=0.001\n",
    "):\n",
    "    \"\"\"\n",
    "    perform kmeans\n",
    "    :param X: (torch.tensor) matrix\n",
    "    :param num_clusters: (int) number of clusters\n",
    "    :param distance: (str) distance [options: 'euclidean', 'cosine'] [default: 'euclidean']\n",
    "    :param tol: (float) threshold [default: 0.0001]\n",
    "    :param device: (torch.device) device [default: cpu]\n",
    "    :param tqdm_flag: Allows to turn logs on and off\n",
    "    :param iter_limit: hard limit for max number of iterations\n",
    "    :param gamma_for_soft_dtw: approaches to (hard) DTW as gamma -> 0\n",
    "    :return: (torch.tensor, torch.tensor) cluster ids, cluster centers\n",
    "    \"\"\"\n",
    "    if tqdm_flag:\n",
    "        print(f'running k-means on {device}..')\n",
    "\n",
    "    if distance == 'euclidean':\n",
    "        pairwise_distance_function = partial(pairwise_distance, device=device, tqdm_flag=tqdm_flag)\n",
    "    elif distance == 'cosine':\n",
    "        pairwise_distance_function = partial(pairwise_cosine, device=device)\n",
    "    elif distance == 'soft_dtw':\n",
    "        sdtw = SoftDTW(use_cuda=device.type == 'cuda', gamma=gamma_for_soft_dtw)\n",
    "        pairwise_distance_function = partial(pairwise_soft_dtw, sdtw=sdtw, device=device)\n",
    "    else:\n",
    "        raise NotImplementedError\n",
    "\n",
    "    # convert to float\n",
    "    X = X.float()\n",
    "\n",
    "    # transfer to device\n",
    "    X = X.to(device)\n",
    "\n",
    "    # initialize\n",
    "    if type(cluster_centers) == list:  # ToDo: make this less annoyingly weird\n",
    "        initial_state = initialize(X, num_clusters)\n",
    "    else:\n",
    "        if tqdm_flag:\n",
    "            print('resuming')\n",
    "        # find data point closest to the initial cluster center\n",
    "        initial_state = cluster_centers\n",
    "        dis = pairwise_distance_function(X, initial_state)\n",
    "        choice_points = torch.argmin(dis, dim=0)\n",
    "        initial_state = X[choice_points]\n",
    "        initial_state = initial_state.to(device)\n",
    "\n",
    "    iteration = 0\n",
    "    if tqdm_flag:\n",
    "        tqdm_meter = tqdm(desc='[running kmeans]')\n",
    "    while True:\n",
    "\n",
    "        dis = pairwise_distance_function(X, initial_state)\n",
    "\n",
    "        choice_cluster = torch.argmin(dis, dim=1)\n",
    "\n",
    "        initial_state_pre = initial_state.clone()\n",
    "\n",
    "        for index in range(num_clusters):\n",
    "            selected = torch.nonzero(choice_cluster == index).squeeze().to(device)\n",
    "\n",
    "            selected = torch.index_select(X, 0, selected)\n",
    "\n",
    "            # https://github.com/subhadarship/kmeans_pytorch/issues/16\n",
    "            if selected.shape[0] == 0:\n",
    "                selected = X[torch.randint(len(X), (1,))]\n",
    "\n",
    "            initial_state[index] = selected.mean(dim=0)\n",
    "\n",
    "        center_shift = torch.sum(\n",
    "            torch.sqrt(\n",
    "                torch.sum((initial_state - initial_state_pre) ** 2, dim=1)\n",
    "            ))\n",
    "\n",
    "        # increment iteration\n",
    "        iteration = iteration + 1\n",
    "\n",
    "        # update tqdm meter\n",
    "        if tqdm_flag:\n",
    "            tqdm_meter.set_postfix(\n",
    "                iteration=f'{iteration}',\n",
    "                center_shift=f'{center_shift ** 2:0.6f}',\n",
    "                tol=f'{tol:0.6f}'\n",
    "            )\n",
    "            tqdm_meter.update()\n",
    "        if center_shift ** 2 < tol:\n",
    "            break\n",
    "        if iter_limit != 0 and iteration >= iter_limit:\n",
    "            break\n",
    "\n",
    "    return choice_cluster.cpu(), initial_state.cpu()\n",
    "\n",
    "\n",
    "def kmeans_predict(\n",
    "        X,\n",
    "        cluster_centers,\n",
    "        distance='euclidean',\n",
    "        device=torch.device('cpu'),\n",
    "        gamma_for_soft_dtw=0.001,\n",
    "        tqdm_flag=True\n",
    "):\n",
    "    \"\"\"\n",
    "    predict using cluster centers\n",
    "    :param X: (torch.tensor) matrix\n",
    "    :param cluster_centers: (torch.tensor) cluster centers\n",
    "    :param distance: (str) distance [options: 'euclidean', 'cosine'] [default: 'euclidean']\n",
    "    :param device: (torch.device) device [default: 'cpu']\n",
    "    :param gamma_for_soft_dtw: approaches to (hard) DTW as gamma -> 0\n",
    "    :return: (torch.tensor) cluster ids\n",
    "    \"\"\"\n",
    "    if tqdm_flag:\n",
    "        print(f'predicting on {device}..')\n",
    "\n",
    "    if distance == 'euclidean':\n",
    "        pairwise_distance_function = partial(pairwise_distance, device=device, tqdm_flag=tqdm_flag)\n",
    "    elif distance == 'cosine':\n",
    "        pairwise_distance_function = partial(pairwise_cosine, device=device)\n",
    "    elif distance == 'soft_dtw':\n",
    "        sdtw = SoftDTW(use_cuda=device.type == 'cuda', gamma=gamma_for_soft_dtw)\n",
    "        pairwise_distance_function = partial(pairwise_soft_dtw, sdtw=sdtw, device=device)\n",
    "    else:\n",
    "        raise NotImplementedError\n",
    "\n",
    "    # convert to float\n",
    "    X = X.float()\n",
    "\n",
    "    # transfer to device\n",
    "    X = X.to(device)\n",
    "\n",
    "    dis = pairwise_distance_function(X, cluster_centers)\n",
    "    choice_cluster = torch.argmin(dis, dim=1)\n",
    "\n",
    "    return choice_cluster.cpu()\n",
    "\n",
    "\n",
    "def pairwise_distance(data1, data2, device=torch.device('cpu'), tqdm_flag=True):\n",
    "    if tqdm_flag:\n",
    "        print(f'device is :{device}')\n",
    "    \n",
    "    # transfer to device\n",
    "    data1, data2 = data1.to(device), data2.to(device)\n",
    "\n",
    "    # N*1*M\n",
    "    A = data1.unsqueeze(dim=1)\n",
    "\n",
    "    # 1*N*M\n",
    "    B = data2.unsqueeze(dim=0)\n",
    "\n",
    "    dis = (A - B) ** 2.0\n",
    "    # return N*N matrix for pairwise distance\n",
    "    dis = dis.sum(dim=-1).squeeze()\n",
    "    return dis\n",
    "\n",
    "\n",
    "def pairwise_cosine(data1, data2, device=torch.device('cpu')):\n",
    "    # transfer to device\n",
    "    data1, data2 = data1.to(device), data2.to(device)\n",
    "\n",
    "    # N*1*M\n",
    "    A = data1.unsqueeze(dim=1)\n",
    "\n",
    "    # 1*N*M\n",
    "    B = data2.unsqueeze(dim=0)\n",
    "\n",
    "    # normalize the points  | [0.3, 0.4] -> [0.3/sqrt(0.09 + 0.16), 0.4/sqrt(0.09 + 0.16)] = [0.3/0.5, 0.4/0.5]\n",
    "    A_normalized = A / A.norm(dim=-1, keepdim=True)\n",
    "    B_normalized = B / B.norm(dim=-1, keepdim=True)\n",
    "\n",
    "    cosine = A_normalized * B_normalized\n",
    "\n",
    "    # return N*N matrix for pairwise distance\n",
    "    cosine_dis = 1 - cosine.sum(dim=-1).squeeze()\n",
    "    return cosine_dis\n",
    "\n",
    "\n",
    "def pairwise_soft_dtw(data1, data2, sdtw=None, device=torch.device('cpu')):\n",
    "    if sdtw is None:\n",
    "        raise ValueError('sdtw is None - initialize it with SoftDTW')\n",
    "\n",
    "    # transfer to device\n",
    "    data1, data2 = data1.to(device), data2.to(device)\n",
    "\n",
    "    # (batch_size, seq_len, feature_dim=1)\n",
    "    A = data1.unsqueeze(dim=2)\n",
    "\n",
    "    # (cluster_size, seq_len, feature_dim=1)\n",
    "    B = data2.unsqueeze(dim=2)\n",
    "\n",
    "    distances = []\n",
    "    for b in B:\n",
    "        # (1, seq_len, 1)\n",
    "        b = b.unsqueeze(dim=0)\n",
    "        A, b = torch.broadcast_tensors(A, b)\n",
    "        # (batch_size, 1)\n",
    "        sdtw_distance = sdtw(b, A).view(-1, 1)\n",
    "        distances.append(sdtw_distance)\n",
    "\n",
    "    # (batch_size, cluster_size)\n",
    "    dis = torch.cat(distances, dim=1)\n",
    "    return dis\n"
   ]
  },
  {
   "cell_type": "code",
   "execution_count": null,
   "id": "2d694754",
   "metadata": {
    "ExecuteTime": {
     "start_time": "2021-11-02T14:55:37.052Z"
    }
   },
   "outputs": [],
   "source": [
    "# X_train = torch.Tensor(X_train)\n",
    "cluster_ids_x, cluster_centers = kmeans(\n",
    "    X=X_train[ids], num_clusters=np.unique(y_train[ids]).size, distance='cosine', device=torch.device('cpu')\n",
    ")"
   ]
  },
  {
   "cell_type": "code",
   "execution_count": 3,
   "id": "a262c207",
   "metadata": {
    "ExecuteTime": {
     "end_time": "2021-11-02T14:55:28.967332Z",
     "start_time": "2021-11-02T14:55:28.962976Z"
    }
   },
   "outputs": [],
   "source": [
    "def load_data(f: str):\n",
    "    data = np.load(f)\n",
    "    return data['arr_0'], data['arr_1']"
   ]
  },
  {
   "cell_type": "code",
   "execution_count": null,
   "id": "3adab620",
   "metadata": {
    "ExecuteTime": {
     "start_time": "2021-11-02T14:55:29.146Z"
    }
   },
   "outputs": [],
   "source": [
    "X_train, y_train = load_data('/home/bethge/ahochlehnert48/results/imnet_train_latent_all.npz')"
   ]
  },
  {
   "cell_type": "code",
   "execution_count": null,
   "id": "0b1a6975",
   "metadata": {
    "ExecuteTime": {
     "start_time": "2021-11-02T14:55:32.429Z"
    }
   },
   "outputs": [],
   "source": [
    "ids = np.random.choice(range(X_train.shape[0]), 1000)"
   ]
  },
  {
   "cell_type": "code",
   "execution_count": 22,
   "id": "a73e2fd8",
   "metadata": {
    "ExecuteTime": {
     "end_time": "2021-11-02T14:43:20.671386Z",
     "start_time": "2021-11-02T14:43:20.659778Z"
    }
   },
   "outputs": [],
   "source": [
    "km = KMeans(n_clusters=np.unique(y_train[ids]).size, random_state=0, verbose=1, n_init=5)"
   ]
  },
  {
   "cell_type": "code",
   "execution_count": 23,
   "id": "f447b950",
   "metadata": {
    "ExecuteTime": {
     "end_time": "2021-11-02T14:50:35.004126Z",
     "start_time": "2021-11-02T14:43:22.168026Z"
    }
   },
   "outputs": [
    {
     "ename": "KeyboardInterrupt",
     "evalue": "",
     "output_type": "error",
     "traceback": [
      "\u001b[0;31m---------------------------------------------------------------------------\u001b[0m",
      "\u001b[0;31mKeyboardInterrupt\u001b[0m                         Traceback (most recent call last)",
      "\u001b[0;32m/tmp/ipykernel_35193/3631657261.py\u001b[0m in \u001b[0;36m<module>\u001b[0;34m\u001b[0m\n\u001b[0;32m----> 1\u001b[0;31m \u001b[0my_pred\u001b[0m \u001b[0;34m=\u001b[0m \u001b[0mkm\u001b[0m\u001b[0;34m.\u001b[0m\u001b[0mfit_predict\u001b[0m\u001b[0;34m(\u001b[0m\u001b[0mX_train\u001b[0m\u001b[0;34m[\u001b[0m\u001b[0mids\u001b[0m\u001b[0;34m]\u001b[0m\u001b[0;34m)\u001b[0m\u001b[0;34m\u001b[0m\u001b[0;34m\u001b[0m\u001b[0m\n\u001b[0m",
      "\u001b[0;32m~/.local/lib/python3.7/site-packages/sklearn/cluster/_kmeans.py\u001b[0m in \u001b[0;36mfit_predict\u001b[0;34m(self, X, y, sample_weight)\u001b[0m\n\u001b[1;32m   1250\u001b[0m             \u001b[0mIndex\u001b[0m \u001b[0mof\u001b[0m \u001b[0mthe\u001b[0m \u001b[0mcluster\u001b[0m \u001b[0meach\u001b[0m \u001b[0msample\u001b[0m \u001b[0mbelongs\u001b[0m \u001b[0mto\u001b[0m\u001b[0;34m.\u001b[0m\u001b[0;34m\u001b[0m\u001b[0;34m\u001b[0m\u001b[0m\n\u001b[1;32m   1251\u001b[0m         \"\"\"\n\u001b[0;32m-> 1252\u001b[0;31m         \u001b[0;32mreturn\u001b[0m \u001b[0mself\u001b[0m\u001b[0;34m.\u001b[0m\u001b[0mfit\u001b[0m\u001b[0;34m(\u001b[0m\u001b[0mX\u001b[0m\u001b[0;34m,\u001b[0m \u001b[0msample_weight\u001b[0m\u001b[0;34m=\u001b[0m\u001b[0msample_weight\u001b[0m\u001b[0;34m)\u001b[0m\u001b[0;34m.\u001b[0m\u001b[0mlabels_\u001b[0m\u001b[0;34m\u001b[0m\u001b[0;34m\u001b[0m\u001b[0m\n\u001b[0m\u001b[1;32m   1253\u001b[0m \u001b[0;34m\u001b[0m\u001b[0m\n\u001b[1;32m   1254\u001b[0m     \u001b[0;32mdef\u001b[0m \u001b[0mfit_transform\u001b[0m\u001b[0;34m(\u001b[0m\u001b[0mself\u001b[0m\u001b[0;34m,\u001b[0m \u001b[0mX\u001b[0m\u001b[0;34m,\u001b[0m \u001b[0my\u001b[0m\u001b[0;34m=\u001b[0m\u001b[0;32mNone\u001b[0m\u001b[0;34m,\u001b[0m \u001b[0msample_weight\u001b[0m\u001b[0;34m=\u001b[0m\u001b[0;32mNone\u001b[0m\u001b[0;34m)\u001b[0m\u001b[0;34m:\u001b[0m\u001b[0;34m\u001b[0m\u001b[0;34m\u001b[0m\u001b[0m\n",
      "\u001b[0;32m~/.local/lib/python3.7/site-packages/sklearn/cluster/_kmeans.py\u001b[0m in \u001b[0;36mfit\u001b[0;34m(self, X, y, sample_weight)\u001b[0m\n\u001b[1;32m   1180\u001b[0m             \u001b[0;31m# Initialize centers\u001b[0m\u001b[0;34m\u001b[0m\u001b[0;34m\u001b[0m\u001b[0;34m\u001b[0m\u001b[0m\n\u001b[1;32m   1181\u001b[0m             centers_init = self._init_centroids(\n\u001b[0;32m-> 1182\u001b[0;31m                 \u001b[0mX\u001b[0m\u001b[0;34m,\u001b[0m \u001b[0mx_squared_norms\u001b[0m\u001b[0;34m=\u001b[0m\u001b[0mx_squared_norms\u001b[0m\u001b[0;34m,\u001b[0m \u001b[0minit\u001b[0m\u001b[0;34m=\u001b[0m\u001b[0minit\u001b[0m\u001b[0;34m,\u001b[0m \u001b[0mrandom_state\u001b[0m\u001b[0;34m=\u001b[0m\u001b[0mrandom_state\u001b[0m\u001b[0;34m\u001b[0m\u001b[0;34m\u001b[0m\u001b[0m\n\u001b[0m\u001b[1;32m   1183\u001b[0m             )\n\u001b[1;32m   1184\u001b[0m             \u001b[0;32mif\u001b[0m \u001b[0mself\u001b[0m\u001b[0;34m.\u001b[0m\u001b[0mverbose\u001b[0m\u001b[0;34m:\u001b[0m\u001b[0;34m\u001b[0m\u001b[0;34m\u001b[0m\u001b[0m\n",
      "\u001b[0;32m~/.local/lib/python3.7/site-packages/sklearn/cluster/_kmeans.py\u001b[0m in \u001b[0;36m_init_centroids\u001b[0;34m(self, X, x_squared_norms, init, random_state, init_size)\u001b[0m\n\u001b[1;32m   1094\u001b[0m                 \u001b[0mn_clusters\u001b[0m\u001b[0;34m,\u001b[0m\u001b[0;34m\u001b[0m\u001b[0;34m\u001b[0m\u001b[0m\n\u001b[1;32m   1095\u001b[0m                 \u001b[0mrandom_state\u001b[0m\u001b[0;34m=\u001b[0m\u001b[0mrandom_state\u001b[0m\u001b[0;34m,\u001b[0m\u001b[0;34m\u001b[0m\u001b[0;34m\u001b[0m\u001b[0m\n\u001b[0;32m-> 1096\u001b[0;31m                 \u001b[0mx_squared_norms\u001b[0m\u001b[0;34m=\u001b[0m\u001b[0mx_squared_norms\u001b[0m\u001b[0;34m,\u001b[0m\u001b[0;34m\u001b[0m\u001b[0;34m\u001b[0m\u001b[0m\n\u001b[0m\u001b[1;32m   1097\u001b[0m             )\n\u001b[1;32m   1098\u001b[0m         \u001b[0;32melif\u001b[0m \u001b[0misinstance\u001b[0m\u001b[0;34m(\u001b[0m\u001b[0minit\u001b[0m\u001b[0;34m,\u001b[0m \u001b[0mstr\u001b[0m\u001b[0;34m)\u001b[0m \u001b[0;32mand\u001b[0m \u001b[0minit\u001b[0m \u001b[0;34m==\u001b[0m \u001b[0;34m\"random\"\u001b[0m\u001b[0;34m:\u001b[0m\u001b[0;34m\u001b[0m\u001b[0;34m\u001b[0m\u001b[0m\n",
      "\u001b[0;32m~/.local/lib/python3.7/site-packages/sklearn/cluster/_kmeans.py\u001b[0m in \u001b[0;36m_kmeans_plusplus\u001b[0;34m(X, n_clusters, x_squared_norms, random_state, n_local_trials)\u001b[0m\n\u001b[1;32m    216\u001b[0m         \u001b[0;31m# Compute distances to center candidates\u001b[0m\u001b[0;34m\u001b[0m\u001b[0;34m\u001b[0m\u001b[0;34m\u001b[0m\u001b[0m\n\u001b[1;32m    217\u001b[0m         distance_to_candidates = _euclidean_distances(\n\u001b[0;32m--> 218\u001b[0;31m             \u001b[0mX\u001b[0m\u001b[0;34m[\u001b[0m\u001b[0mcandidate_ids\u001b[0m\u001b[0;34m]\u001b[0m\u001b[0;34m,\u001b[0m \u001b[0mX\u001b[0m\u001b[0;34m,\u001b[0m \u001b[0mY_norm_squared\u001b[0m\u001b[0;34m=\u001b[0m\u001b[0mx_squared_norms\u001b[0m\u001b[0;34m,\u001b[0m \u001b[0msquared\u001b[0m\u001b[0;34m=\u001b[0m\u001b[0;32mTrue\u001b[0m\u001b[0;34m\u001b[0m\u001b[0;34m\u001b[0m\u001b[0m\n\u001b[0m\u001b[1;32m    219\u001b[0m         )\n\u001b[1;32m    220\u001b[0m \u001b[0;34m\u001b[0m\u001b[0m\n",
      "\u001b[0;32m~/.local/lib/python3.7/site-packages/sklearn/metrics/pairwise.py\u001b[0m in \u001b[0;36m_euclidean_distances\u001b[0;34m(X, Y, X_norm_squared, Y_norm_squared, squared)\u001b[0m\n\u001b[1;32m    363\u001b[0m         \u001b[0;31m# To minimize precision issues with float32, we compute the distance\u001b[0m\u001b[0;34m\u001b[0m\u001b[0;34m\u001b[0m\u001b[0;34m\u001b[0m\u001b[0m\n\u001b[1;32m    364\u001b[0m         \u001b[0;31m# matrix on chunks of X and Y upcast to float64\u001b[0m\u001b[0;34m\u001b[0m\u001b[0;34m\u001b[0m\u001b[0;34m\u001b[0m\u001b[0m\n\u001b[0;32m--> 365\u001b[0;31m         \u001b[0mdistances\u001b[0m \u001b[0;34m=\u001b[0m \u001b[0m_euclidean_distances_upcast\u001b[0m\u001b[0;34m(\u001b[0m\u001b[0mX\u001b[0m\u001b[0;34m,\u001b[0m \u001b[0mXX\u001b[0m\u001b[0;34m,\u001b[0m \u001b[0mY\u001b[0m\u001b[0;34m,\u001b[0m \u001b[0mYY\u001b[0m\u001b[0;34m)\u001b[0m\u001b[0;34m\u001b[0m\u001b[0;34m\u001b[0m\u001b[0m\n\u001b[0m\u001b[1;32m    366\u001b[0m     \u001b[0;32melse\u001b[0m\u001b[0;34m:\u001b[0m\u001b[0;34m\u001b[0m\u001b[0;34m\u001b[0m\u001b[0m\n\u001b[1;32m    367\u001b[0m         \u001b[0;31m# if dtype is already float64, no need to chunk and upcast\u001b[0m\u001b[0;34m\u001b[0m\u001b[0;34m\u001b[0m\u001b[0;34m\u001b[0m\u001b[0m\n",
      "\u001b[0;32m~/.local/lib/python3.7/site-packages/sklearn/metrics/pairwise.py\u001b[0m in \u001b[0;36m_euclidean_distances_upcast\u001b[0;34m(X, XX, Y, YY, batch_size)\u001b[0m\n\u001b[1;32m    555\u001b[0m             \u001b[0;32melse\u001b[0m\u001b[0;34m:\u001b[0m\u001b[0;34m\u001b[0m\u001b[0;34m\u001b[0m\u001b[0m\n\u001b[1;32m    556\u001b[0m                 \u001b[0mY_chunk\u001b[0m \u001b[0;34m=\u001b[0m \u001b[0mY\u001b[0m\u001b[0;34m[\u001b[0m\u001b[0my_slice\u001b[0m\u001b[0;34m]\u001b[0m\u001b[0;34m.\u001b[0m\u001b[0mastype\u001b[0m\u001b[0;34m(\u001b[0m\u001b[0mnp\u001b[0m\u001b[0;34m.\u001b[0m\u001b[0mfloat64\u001b[0m\u001b[0;34m)\u001b[0m\u001b[0;34m\u001b[0m\u001b[0;34m\u001b[0m\u001b[0m\n\u001b[0;32m--> 557\u001b[0;31m                 \u001b[0;32mif\u001b[0m \u001b[0mYY\u001b[0m \u001b[0;32mis\u001b[0m \u001b[0;32mNone\u001b[0m\u001b[0;34m:\u001b[0m\u001b[0;34m\u001b[0m\u001b[0;34m\u001b[0m\u001b[0m\n\u001b[0m\u001b[1;32m    558\u001b[0m                     \u001b[0mYY_chunk\u001b[0m \u001b[0;34m=\u001b[0m \u001b[0mrow_norms\u001b[0m\u001b[0;34m(\u001b[0m\u001b[0mY_chunk\u001b[0m\u001b[0;34m,\u001b[0m \u001b[0msquared\u001b[0m\u001b[0;34m=\u001b[0m\u001b[0;32mTrue\u001b[0m\u001b[0;34m)\u001b[0m\u001b[0;34m[\u001b[0m\u001b[0mnp\u001b[0m\u001b[0;34m.\u001b[0m\u001b[0mnewaxis\u001b[0m\u001b[0;34m,\u001b[0m \u001b[0;34m:\u001b[0m\u001b[0;34m]\u001b[0m\u001b[0;34m\u001b[0m\u001b[0;34m\u001b[0m\u001b[0m\n\u001b[1;32m    559\u001b[0m                 \u001b[0;32melse\u001b[0m\u001b[0;34m:\u001b[0m\u001b[0;34m\u001b[0m\u001b[0;34m\u001b[0m\u001b[0m\n",
      "\u001b[0;31mKeyboardInterrupt\u001b[0m: "
     ]
    }
   ],
   "source": [
    "y_pred = km.fit_predict(X_train[ids])"
   ]
  },
  {
   "cell_type": "code",
   "execution_count": 18,
   "id": "9faf8cc4",
   "metadata": {
    "ExecuteTime": {
     "end_time": "2021-11-02T14:42:13.524854Z",
     "start_time": "2021-11-02T14:42:13.459197Z"
    }
   },
   "outputs": [
    {
     "ename": "ValueError",
     "evalue": "Found input variables with inconsistent numbers of samples: [1281167, 1000]",
     "output_type": "error",
     "traceback": [
      "\u001b[0;31m---------------------------------------------------------------------------\u001b[0m",
      "\u001b[0;31mValueError\u001b[0m                                Traceback (most recent call last)",
      "\u001b[0;32m/tmp/ipykernel_35193/1422076959.py\u001b[0m in \u001b[0;36m<module>\u001b[0;34m\u001b[0m\n\u001b[0;32m----> 1\u001b[0;31m \u001b[0mprint\u001b[0m\u001b[0;34m(\u001b[0m\u001b[0mclassification_report\u001b[0m\u001b[0;34m(\u001b[0m\u001b[0my_train\u001b[0m\u001b[0;34m,\u001b[0m \u001b[0my_pred\u001b[0m\u001b[0;34m)\u001b[0m\u001b[0;34m)\u001b[0m\u001b[0;34m\u001b[0m\u001b[0;34m\u001b[0m\u001b[0m\n\u001b[0m",
      "\u001b[0;32m~/.local/lib/python3.7/site-packages/sklearn/metrics/_classification.py\u001b[0m in \u001b[0;36mclassification_report\u001b[0;34m(y_true, y_pred, labels, target_names, sample_weight, digits, output_dict, zero_division)\u001b[0m\n\u001b[1;32m   2074\u001b[0m     \"\"\"\n\u001b[1;32m   2075\u001b[0m \u001b[0;34m\u001b[0m\u001b[0m\n\u001b[0;32m-> 2076\u001b[0;31m     \u001b[0my_type\u001b[0m\u001b[0;34m,\u001b[0m \u001b[0my_true\u001b[0m\u001b[0;34m,\u001b[0m \u001b[0my_pred\u001b[0m \u001b[0;34m=\u001b[0m \u001b[0m_check_targets\u001b[0m\u001b[0;34m(\u001b[0m\u001b[0my_true\u001b[0m\u001b[0;34m,\u001b[0m \u001b[0my_pred\u001b[0m\u001b[0;34m)\u001b[0m\u001b[0;34m\u001b[0m\u001b[0;34m\u001b[0m\u001b[0m\n\u001b[0m\u001b[1;32m   2077\u001b[0m \u001b[0;34m\u001b[0m\u001b[0m\n\u001b[1;32m   2078\u001b[0m     \u001b[0;32mif\u001b[0m \u001b[0mlabels\u001b[0m \u001b[0;32mis\u001b[0m \u001b[0;32mNone\u001b[0m\u001b[0;34m:\u001b[0m\u001b[0;34m\u001b[0m\u001b[0;34m\u001b[0m\u001b[0m\n",
      "\u001b[0;32m~/.local/lib/python3.7/site-packages/sklearn/metrics/_classification.py\u001b[0m in \u001b[0;36m_check_targets\u001b[0;34m(y_true, y_pred)\u001b[0m\n\u001b[1;32m     82\u001b[0m     \u001b[0my_pred\u001b[0m \u001b[0;34m:\u001b[0m \u001b[0marray\u001b[0m \u001b[0;32mor\u001b[0m \u001b[0mindicator\u001b[0m \u001b[0mmatrix\u001b[0m\u001b[0;34m\u001b[0m\u001b[0;34m\u001b[0m\u001b[0m\n\u001b[1;32m     83\u001b[0m     \"\"\"\n\u001b[0;32m---> 84\u001b[0;31m     \u001b[0mcheck_consistent_length\u001b[0m\u001b[0;34m(\u001b[0m\u001b[0my_true\u001b[0m\u001b[0;34m,\u001b[0m \u001b[0my_pred\u001b[0m\u001b[0;34m)\u001b[0m\u001b[0;34m\u001b[0m\u001b[0;34m\u001b[0m\u001b[0m\n\u001b[0m\u001b[1;32m     85\u001b[0m     \u001b[0mtype_true\u001b[0m \u001b[0;34m=\u001b[0m \u001b[0mtype_of_target\u001b[0m\u001b[0;34m(\u001b[0m\u001b[0my_true\u001b[0m\u001b[0;34m)\u001b[0m\u001b[0;34m\u001b[0m\u001b[0;34m\u001b[0m\u001b[0m\n\u001b[1;32m     86\u001b[0m     \u001b[0mtype_pred\u001b[0m \u001b[0;34m=\u001b[0m \u001b[0mtype_of_target\u001b[0m\u001b[0;34m(\u001b[0m\u001b[0my_pred\u001b[0m\u001b[0;34m)\u001b[0m\u001b[0;34m\u001b[0m\u001b[0;34m\u001b[0m\u001b[0m\n",
      "\u001b[0;32m~/.local/lib/python3.7/site-packages/sklearn/utils/validation.py\u001b[0m in \u001b[0;36mcheck_consistent_length\u001b[0;34m(*arrays)\u001b[0m\n\u001b[1;32m    331\u001b[0m         raise ValueError(\n\u001b[1;32m    332\u001b[0m             \u001b[0;34m\"Found input variables with inconsistent numbers of samples: %r\"\u001b[0m\u001b[0;34m\u001b[0m\u001b[0;34m\u001b[0m\u001b[0m\n\u001b[0;32m--> 333\u001b[0;31m             \u001b[0;34m%\u001b[0m \u001b[0;34m[\u001b[0m\u001b[0mint\u001b[0m\u001b[0;34m(\u001b[0m\u001b[0ml\u001b[0m\u001b[0;34m)\u001b[0m \u001b[0;32mfor\u001b[0m \u001b[0ml\u001b[0m \u001b[0;32min\u001b[0m \u001b[0mlengths\u001b[0m\u001b[0;34m]\u001b[0m\u001b[0;34m\u001b[0m\u001b[0;34m\u001b[0m\u001b[0m\n\u001b[0m\u001b[1;32m    334\u001b[0m         )\n\u001b[1;32m    335\u001b[0m \u001b[0;34m\u001b[0m\u001b[0m\n",
      "\u001b[0;31mValueError\u001b[0m: Found input variables with inconsistent numbers of samples: [1281167, 1000]"
     ]
    }
   ],
   "source": [
    "print(classification_report(y_train, y_pred))"
   ]
  }
 ],
 "metadata": {
  "kernelspec": {
   "display_name": "Python 3 (ipykernel)",
   "language": "python",
   "name": "python3"
  },
  "language_info": {
   "codemirror_mode": {
    "name": "ipython",
    "version": 3
   },
   "file_extension": ".py",
   "mimetype": "text/x-python",
   "name": "python",
   "nbconvert_exporter": "python",
   "pygments_lexer": "ipython3",
   "version": "3.7.10"
  },
  "toc": {
   "base_numbering": 1,
   "nav_menu": {},
   "number_sections": true,
   "sideBar": true,
   "skip_h1_title": false,
   "title_cell": "Table of Contents",
   "title_sidebar": "Contents",
   "toc_cell": false,
   "toc_position": {},
   "toc_section_display": true,
   "toc_window_display": false
  }
 },
 "nbformat": 4,
 "nbformat_minor": 5
}
